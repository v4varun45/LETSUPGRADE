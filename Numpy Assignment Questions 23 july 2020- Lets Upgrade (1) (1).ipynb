{
 "cells": [
  {
   "cell_type": "markdown",
   "metadata": {},
   "source": [
    "# 1. Create a 3x3x3 array with random values "
   ]
  },
  {
   "cell_type": "code",
   "execution_count": 11,
   "metadata": {},
   "outputs": [
    {
     "data": {
      "text/plain": [
       "array([[[0.57517948, 0.09195797, 0.54057438],\n",
       "        [0.77458721, 0.55847923, 0.13939857],\n",
       "        [0.08746794, 0.9329522 , 0.4202037 ]],\n",
       "\n",
       "       [[0.28001917, 0.62967442, 0.58624879],\n",
       "        [0.31278119, 0.32677733, 0.23987314],\n",
       "        [0.26086031, 0.45319449, 0.45013412]],\n",
       "\n",
       "       [[0.19034838, 0.03198435, 0.27840443],\n",
       "        [0.93302954, 0.94995428, 0.10446325],\n",
       "        [0.73496826, 0.94878772, 0.47450779]]])"
      ]
     },
     "execution_count": 11,
     "metadata": {},
     "output_type": "execute_result"
    }
   ],
   "source": [
    "from numpy import *\n",
    "a=random.rand(3,3,3)\n",
    "a"
   ]
  },
  {
   "cell_type": "markdown",
   "metadata": {},
   "source": [
    "# 2.Create a 5x5 matrix with values 1,2,3,4 just below the diagonal"
   ]
  },
  {
   "cell_type": "code",
   "execution_count": null,
   "metadata": {},
   "outputs": [],
   "source": []
  },
  {
   "cell_type": "markdown",
   "metadata": {},
   "source": [
    "# 3.Create a 8x8 matrix and fill it with a checkerboard pattern"
   ]
  },
  {
   "cell_type": "code",
   "execution_count": 17,
   "metadata": {},
   "outputs": [
    {
     "name": "stdout",
     "output_type": "stream",
     "text": [
      "Checkerboard pattern:\n",
      "[[0 1 0 1 0 1 0 1]\n",
      " [1 0 1 0 1 0 1 0]\n",
      " [0 1 0 1 0 1 0 1]\n",
      " [1 0 1 0 1 0 1 0]\n",
      " [0 1 0 1 0 1 0 1]\n",
      " [1 0 1 0 1 0 1 0]\n",
      " [0 1 0 1 0 1 0 1]\n",
      " [1 0 1 0 1 0 1 0]]\n"
     ]
    }
   ],
   "source": [
    "from numpy import *\n",
    "a = ones((3,3))\n",
    "print(\"Checkerboard pattern:\")\n",
    "a = zeros((8,8),dtype=int)\n",
    "a[1::2,::2] = 1\n",
    "a[::2,1::2] = 1\n",
    "print(a)"
   ]
  },
  {
   "cell_type": "markdown",
   "metadata": {},
   "source": [
    "# 4. Normalize a 5x5 random matrix"
   ]
  },
  {
   "cell_type": "code",
   "execution_count": 18,
   "metadata": {},
   "outputs": [
    {
     "name": "stdout",
     "output_type": "stream",
     "text": [
      "Original Array:\n",
      "[[0.0385223  0.03170028 0.14614823 0.01201322 0.33706773]\n",
      " [0.74567719 0.2900439  0.88090634 0.25992272 0.51510499]\n",
      " [0.40337092 0.64420997 0.52644923 0.50017024 0.59075968]\n",
      " [0.6526344  0.60677866 0.96522442 0.36027057 0.73075581]\n",
      " [0.6053785  0.35469745 0.29136187 0.4668262  0.30203754]]\n",
      "Normalized array:\n",
      "[[0.02781029 0.02065341 0.14071909 0.         0.34100996]\n",
      " [0.76967619 0.29167794 0.91154312 0.26007825 0.52778625]\n",
      " [0.41056767 0.66322841 0.53968734 0.51211842 0.60715449]\n",
      " [0.67206636 0.62395977 1.         0.36535172 0.75402239]\n",
      " [0.62249088 0.35950504 0.2930606  0.47713768 0.30426029]]\n"
     ]
    }
   ],
   "source": [
    "from numpy import *\n",
    "x= random.random((5,5))\n",
    "print(\"Original Array:\")\n",
    "print(x)\n",
    "xmax, xmin = x.max(), x.min()\n",
    "x = (x - xmin)/(xmax - xmin)\n",
    "print('Normalized array:')\n",
    "print(x)"
   ]
  },
  {
   "cell_type": "markdown",
   "metadata": {},
   "source": [
    "# 5.  How to find common values between two arrays?"
   ]
  },
  {
   "cell_type": "code",
   "execution_count": 21,
   "metadata": {},
   "outputs": [
    {
     "name": "stdout",
     "output_type": "stream",
     "text": [
      "Array1:  [ 0 10 20 40 60]\n",
      "Array2:  [10, 30, 40]\n",
      "Common values between two arrays:\n",
      "[10 40]\n"
     ]
    }
   ],
   "source": [
    "from numpy import *\n",
    "array1 = array([0, 10, 20, 40, 60])\n",
    "print(\"Array1: \",array1)\n",
    "array2 = [10, 30, 40]\n",
    "print(\"Array2: \",array2)\n",
    "print(\"Common values between two arrays:\")\n",
    "print(np.intersect1d(array1, array2))"
   ]
  },
  {
   "cell_type": "markdown",
   "metadata": {},
   "source": [
    "# 6.How to get the dates of yesterday, today and tomorrow?"
   ]
  },
  {
   "cell_type": "code",
   "execution_count": 22,
   "metadata": {},
   "outputs": [
    {
     "name": "stdout",
     "output_type": "stream",
     "text": [
      "Yestraday:  2020-07-27\n",
      "Today:  2020-07-28\n",
      "Tomorrow:  2020-07-29\n"
     ]
    }
   ],
   "source": [
    "from numpy import *\n",
    "yesterday = datetime64('today', 'D') - timedelta64(1, 'D')\n",
    "print(\"Yestraday: \",yesterday)\n",
    "today     = datetime64('today', 'D')\n",
    "print(\"Today: \",today)\n",
    "tomorrow  = datetime64('today', 'D') + timedelta64(1, 'D')\n",
    "print(\"Tomorrow: \",tomorrow)"
   ]
  },
  {
   "cell_type": "markdown",
   "metadata": {},
   "source": [
    "# 7. Consider two random array A and B, check if they are equal"
   ]
  },
  {
   "cell_type": "code",
   "execution_count": 23,
   "metadata": {},
   "outputs": [
    {
     "name": "stdout",
     "output_type": "stream",
     "text": [
      "False\n"
     ]
    }
   ],
   "source": [
    "a = array([[1,2],[3,4]])\n",
    "b = array([[2,6],[3,4]])\n",
    "c = a == b\n",
    "equal_arrays = c. all()\n",
    "print(equal_arrays)"
   ]
  },
  {
   "cell_type": "markdown",
   "metadata": {},
   "source": [
    "# 8.Create random vector of size 10 and replace the maximum value by 0 "
   ]
  },
  {
   "cell_type": "code",
   "execution_count": 4,
   "metadata": {},
   "outputs": [
    {
     "name": "stdout",
     "output_type": "stream",
     "text": [
      "[0.46122429 0.77544435 0.81691891 0.03220056 0.46483059 0.99003528\n",
      " 0.07997813 0.39537432 0.92380386 0.86852176]\n"
     ]
    },
    {
     "data": {
      "text/plain": [
       "array([0.46122429, 0.77544435, 0.81691891, 0.03220056, 0.46483059,\n",
       "       0.        , 0.07997813, 0.39537432, 0.92380386, 0.86852176])"
      ]
     },
     "execution_count": 4,
     "metadata": {},
     "output_type": "execute_result"
    }
   ],
   "source": [
    "from numpy import *\n",
    "a=random.random(10)\n",
    "print(a)\n",
    "a[a.argmax()]=0\n",
    "a"
   ]
  },
  {
   "cell_type": "markdown",
   "metadata": {},
   "source": [
    "# 9. How to print all the values of an array?"
   ]
  },
  {
   "cell_type": "code",
   "execution_count": 31,
   "metadata": {},
   "outputs": [
    {
     "name": "stdout",
     "output_type": "stream",
     "text": [
      "1\n",
      "5\n",
      "1\n",
      "3\n",
      "8\n",
      "3\n"
     ]
    }
   ],
   "source": [
    "z=array([1,5,1,3,8,3])\n",
    "for i in z:\n",
    "    print(i)\n",
    "    "
   ]
  },
  {
   "cell_type": "markdown",
   "metadata": {},
   "source": [
    "# 10.Subtract the mean of each row of a matrix"
   ]
  },
  {
   "cell_type": "code",
   "execution_count": 24,
   "metadata": {},
   "outputs": [
    {
     "name": "stdout",
     "output_type": "stream",
     "text": [
      "Original matrix:\n",
      "\n",
      "[[0.61292191 0.32044563 0.3614901  0.19617725 0.1089955  0.63711644\n",
      "  0.90319797 0.8411757  0.02721607 0.6253156 ]\n",
      " [0.48803644 0.21326534 0.01594685 0.05784302 0.5026511  0.90649683\n",
      "  0.84416938 0.91377124 0.76944337 0.30500888]\n",
      " [0.95621292 0.90277152 0.13076301 0.81586389 0.22502833 0.46002428\n",
      "  0.85716202 0.05151071 0.80522547 0.90066523]\n",
      " [0.41978617 0.93858802 0.34671158 0.66661185 0.09042315 0.09663252\n",
      "  0.24586468 0.84850295 0.44595294 0.55604458]\n",
      " [0.64526533 0.22586116 0.78542633 0.97861831 0.76799706 0.7545209\n",
      "  0.92091031 0.00980777 0.52737723 0.9047054 ]]\n",
      "\n",
      "Subtract the mean of each row of the said matrix:\n",
      "\n",
      "[[ 0.1495167  -0.14295959 -0.10191512 -0.26722797 -0.35440972  0.17371123\n",
      "   0.43979275  0.37777049 -0.43618915  0.16191038]\n",
      " [-0.01362681 -0.2883979  -0.4857164  -0.44382023  0.00098786  0.40483358\n",
      "   0.34250614  0.412108    0.26778013 -0.19665436]\n",
      " [ 0.34569018  0.29224878 -0.47975973  0.20534115 -0.38549441 -0.15049846\n",
      "   0.24663928 -0.55901203  0.19470273  0.29014249]\n",
      " [-0.04572567  0.47307618 -0.11880026  0.20110001 -0.3750887  -0.36887932\n",
      "  -0.21964717  0.38299111 -0.0195589   0.09053273]\n",
      " [-0.00678365 -0.42618782  0.13337735  0.32656933  0.11594808  0.10247192\n",
      "   0.26886133 -0.64224121 -0.12467176  0.25265642]]\n"
     ]
    }
   ],
   "source": [
    "print(\"Original matrix:\\n\")\n",
    "X = random.rand(5, 10)\n",
    "print(X)\n",
    "print(\"\\nSubtract the mean of each row of the said matrix:\\n\")\n",
    "Y = X - X.mean(axis=1, keepdims=True)\n",
    "print(Y)"
   ]
  },
  {
   "cell_type": "markdown",
   "metadata": {},
   "source": [
    "# 11.Consider a given vector, how to add 1 to each element indexed by a second vector (be careful with repeated indices)? "
   ]
  },
  {
   "cell_type": "code",
   "execution_count": null,
   "metadata": {},
   "outputs": [],
   "source": []
  },
  {
   "cell_type": "code",
   "execution_count": null,
   "metadata": {},
   "outputs": [],
   "source": []
  },
  {
   "cell_type": "markdown",
   "metadata": {},
   "source": [
    "# 12.How to get the diagonal of a dot product?"
   ]
  },
  {
   "cell_type": "code",
   "execution_count": 25,
   "metadata": {},
   "outputs": [
    {
     "name": "stdout",
     "output_type": "stream",
     "text": [
      "diagonal of a dot product: [ 50 218]\n"
     ]
    }
   ],
   "source": [
    "from numpy import *\n",
    "a=array([[1,6],[5,9]])\n",
    "b=array([[20,13],[5,17]])\n",
    "c=dot(a,b)\n",
    "print('diagonal of a dot product:',c.diagonal())"
   ]
  },
  {
   "cell_type": "markdown",
   "metadata": {},
   "source": [
    "# 13.How to find the most frequent value in an array?"
   ]
  },
  {
   "cell_type": "code",
   "execution_count": 26,
   "metadata": {},
   "outputs": [
    {
     "name": "stdout",
     "output_type": "stream",
     "text": [
      "Original array:\n",
      "[2 5 5 2 9 0 0 6 5 1 9 7 3 2 0 4 5 2 9 9 2 1 8 4 1 1 7 3 4 6 6 5 2 9 5 6 0\n",
      " 7 0 3]\n",
      "Most frequent value in the above array:\n",
      "2\n"
     ]
    }
   ],
   "source": [
    "import numpy as np\n",
    "x = np.random.randint(0, 10, 40)\n",
    "print(\"Original array:\")\n",
    "print(x)\n",
    "print(\"Most frequent value in the above array:\")\n",
    "print(np.bincount(x).argmax())"
   ]
  },
  {
   "cell_type": "markdown",
   "metadata": {},
   "source": [
    "# 14.How to get the n largest values of an array"
   ]
  },
  {
   "cell_type": "code",
   "execution_count": 9,
   "metadata": {},
   "outputs": [
    {
     "name": "stdout",
     "output_type": "stream",
     "text": [
      "10\n"
     ]
    }
   ],
   "source": [
    "# method-1\n",
    "from numpy import *\n",
    "a=array([10,6,8,5,9])\n",
    "a.sort()\n",
    "max=a[0]\n",
    "for i in range(1,len(a)):\n",
    "    if a[i]>max:\n",
    "        max=a[i]\n",
    "print(max) "
   ]
  },
  {
   "cell_type": "code",
   "execution_count": 10,
   "metadata": {},
   "outputs": [
    {
     "name": "stdout",
     "output_type": "stream",
     "text": [
      "10\n"
     ]
    }
   ],
   "source": [
    "# method-2\n",
    "from numpy import *\n",
    "a=array([10,6,8,5,9])\n",
    "a.sort()\n",
    "print(a[len(a)-1])   "
   ]
  },
  {
   "cell_type": "markdown",
   "metadata": {},
   "source": [
    "# 15.How to create a record array from a regular array?"
   ]
  },
  {
   "cell_type": "code",
   "execution_count": 30,
   "metadata": {},
   "outputs": [
    {
     "name": "stdout",
     "output_type": "stream",
     "text": [
      "Original arrays:\n",
      "[['swift' '45' '99']\n",
      " ['verna' '13' '91']\n",
      " ['triumph' '83' '13']]\n",
      "\n",
      "Record array;\n",
      "[(b'swift', 45., 99) (b'verna', 13., 91) (b'triumph', 83., 13)]\n"
     ]
    }
   ],
   "source": [
    "array1 = np.array([(\"swift\", 45, 99),\n",
    "                 (\"verna\", 13, 91),\n",
    "             (\"triumph\", 83, 13)])\n",
    "print(\"Original arrays:\")\n",
    "print(array1)\n",
    "result = np.core.records.fromarrays(array1.T,\n",
    "                              names='col1, col2, col3',\n",
    "                              formats = 'S80, f8, i8')\n",
    "print(\"\\nRecord array;\")\n",
    "print(result)"
   ]
  },
  {
   "cell_type": "code",
   "execution_count": null,
   "metadata": {},
   "outputs": [],
   "source": []
  }
 ],
 "metadata": {
  "kernelspec": {
   "display_name": "Python 3",
   "language": "python",
   "name": "python3"
  },
  "language_info": {
   "codemirror_mode": {
    "name": "ipython",
    "version": 3
   },
   "file_extension": ".py",
   "mimetype": "text/x-python",
   "name": "python",
   "nbconvert_exporter": "python",
   "pygments_lexer": "ipython3",
   "version": "3.7.6"
  }
 },
 "nbformat": 4,
 "nbformat_minor": 2
}
