{
 "cells": [
  {
   "cell_type": "markdown",
   "metadata": {},
   "source": [
    "# Program to subtract two complex numbers in Python.\n"
   ]
  },
  {
   "cell_type": "code",
   "execution_count": 12,
   "metadata": {},
   "outputs": [
    {
     "name": "stdout",
     "output_type": "stream",
     "text": [
      "<class 'complex'>\n",
      "<class 'complex'>\n",
      "(7+2j)\n"
     ]
    }
   ],
   "source": [
    "a=8+5j\n",
    "b=1+3j\n",
    "print(type(a))\n",
    "print(type(b))\n",
    "c=a-b\n",
    "print(c)"
   ]
  },
  {
   "cell_type": "markdown",
   "metadata": {},
   "source": [
    "# Program to find the fourth root of a number.\n"
   ]
  },
  {
   "cell_type": "code",
   "execution_count": 4,
   "metadata": {},
   "outputs": [
    {
     "name": "stdout",
     "output_type": "stream",
     "text": [
      "2.0\n"
     ]
    }
   ],
   "source": [
    "def fourth_root(a,n):\n",
    "    A=pow(a,(1/n))\n",
    "    print(A)\n",
    "fourth_root(16,4)    \n",
    "    \n",
    "    "
   ]
  },
  {
   "cell_type": "markdown",
   "metadata": {},
   "source": [
    "# Program to swap two numbers in Python with the help of a temporary variable."
   ]
  },
  {
   "cell_type": "code",
   "execution_count": 9,
   "metadata": {},
   "outputs": [
    {
     "name": "stdout",
     "output_type": "stream",
     "text": [
      "a = 9\n",
      "b = 3\n"
     ]
    }
   ],
   "source": [
    "a=3\n",
    "b=9\n",
    "temp=a\n",
    "a=b\n",
    "b=temp\n",
    "print('a =',a)\n",
    "print('b =',b)"
   ]
  },
  {
   "cell_type": "markdown",
   "metadata": {},
   "source": [
    "# Program to swap two numbers in Python without using a temporary variable."
   ]
  },
  {
   "cell_type": "code",
   "execution_count": 10,
   "metadata": {},
   "outputs": [
    {
     "name": "stdout",
     "output_type": "stream",
     "text": [
      "a = 333\n",
      "b = 111\n"
     ]
    }
   ],
   "source": [
    "a=111\n",
    "b=333\n",
    "a,b=b,a\n",
    "print('a =',a)\n",
    "print('b =',b)"
   ]
  },
  {
   "cell_type": "markdown",
   "metadata": {},
   "source": [
    "# Program to convert fahrenheit to kelvin and celsius."
   ]
  },
  {
   "cell_type": "code",
   "execution_count": 14,
   "metadata": {},
   "outputs": [
    {
     "name": "stdout",
     "output_type": "stream",
     "text": [
      "kelvin= 316.27777777777777\n",
      "celsius= 37.77777777777778\n"
     ]
    }
   ],
   "source": [
    "def fahrenheit_to_kelvin(f):\n",
    "    kelvin=273.5 + ((f - 32.0) * (5.0/9.0))\n",
    "    print('kelvin=',kelvin)\n",
    "    \n",
    "def fahrenheit_to_celsius(f):\n",
    "    celsius=((f-32)*5)/9\n",
    "    print('celsius=',celsius)\n",
    "    \n",
    "fahrenheit_to_kelvin(109)     \n",
    "fahrenheit_to_celsius(100) "
   ]
  },
  {
   "cell_type": "markdown",
   "metadata": {},
   "source": [
    "# Program to demonstrate all the available data types in Python using type()"
   ]
  },
  {
   "cell_type": "code",
   "execution_count": 15,
   "metadata": {},
   "outputs": [
    {
     "name": "stdout",
     "output_type": "stream",
     "text": [
      "<class 'int'>\n",
      "<class 'float'>\n",
      "<class 'str'>\n",
      "<class 'tuple'>\n",
      "<class 'list'>\n",
      "<class 'dict'>\n",
      "<class 'bool'>\n"
     ]
    }
   ],
   "source": [
    "a=13\n",
    "print(type(a))\n",
    "b=13.83\n",
    "print(type(b))\n",
    "c='Free delivery'\n",
    "print(type(c))\n",
    "d=(21,51,4,5,87)\n",
    "print(type(d))\n",
    "e=[45,4,54,5,35,35]\n",
    "print(type(e))\n",
    "f= {\"brand\": \"Benz\",\"model\": \"Brabus\",\"year\": 1926}\n",
    "print(type(f))\n",
    "g=True\n",
    "print(type(g))"
   ]
  },
  {
   "cell_type": "markdown",
   "metadata": {},
   "source": [
    "# About GITHUB"
   ]
  },
  {
   "cell_type": "markdown",
   "metadata": {},
   "source": [
    "what is GITHUB?\n",
    "-->GITHUB is place where we can push our code by uploading a file.\n",
    "\n",
    "How to create profile GITHUB profile?\n",
    "-->search for GITHUB signup in your browser.\n",
    "-->Signup GITHUB with your google account.\n",
    "\n",
    "How to push files in GITHUB?\n",
    "-->click on new repository.\n",
    "-->Give name for repository.\n",
    "-->click on create repository,so that new repository is created.\n",
    "-->click on uploading an existing file.\n",
    "-->Then it will ask to drag a file or choose a file.\n",
    "-->After choosing a file,click on commit changes so that your file can be pushed into GITHUB.\n",
    "-->Copy the link of ur website,so that you can share that link to anyone.\n",
    "\n",
    "\n"
   ]
  }
 ],
 "metadata": {
  "kernelspec": {
   "display_name": "Python 3",
   "language": "python",
   "name": "python3"
  },
  "language_info": {
   "codemirror_mode": {
    "name": "ipython",
    "version": 3
   },
   "file_extension": ".py",
   "mimetype": "text/x-python",
   "name": "python",
   "nbconvert_exporter": "python",
   "pygments_lexer": "ipython3",
   "version": "3.7.6"
  }
 },
 "nbformat": 4,
 "nbformat_minor": 4
}
